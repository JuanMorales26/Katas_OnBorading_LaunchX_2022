{
 "cells": [
  {
   "cell_type": "markdown",
   "metadata": {},
   "source": [
    "## Sistema de Alerta de riesgo planetario\n",
    "Deteccion de asteroides con rumbo de colisión ala tierra\n",
    "#Radar de velocidad de asteroides\n",
    "#Alertar con velocidades mayores a 25 Km/s"
   ]
  },
  {
   "cell_type": "code",
   "execution_count": 13,
   "metadata": {},
   "outputs": [
    {
     "name": "stdout",
     "output_type": "stream",
     "text": [
      "Alerta!, se ha detectado asteoride a 49 km/s, Alerta!\n"
     ]
    }
   ],
   "source": [
    "#Detectado asteroide que viaja a una velocidad de 49 km/s\n",
    "asteroid_speed= 49\n",
    "if asteroid_speed >25:\n",
    "    print(\"Alerta!, se ha detectado asteoride a \"+str(asteroid_speed)+\" km/s, Alerta!\")\n",
    "else:\n",
    "    print(\"Sondeo actual en estado verde, no hay amenaza de asteroide\")\n",
    "    print(\"Bonito día\")    "
   ]
  },
  {
   "cell_type": "code",
   "execution_count": 12,
   "metadata": {},
   "outputs": [
    {
     "name": "stdout",
     "output_type": "stream",
     "text": [
      "No se han detectado amenzana de asteroide, lindo día\n"
     ]
    }
   ],
   "source": [
    "#Asteroide detectado aproximadonse a 19 km/s\n",
    "\n",
    "asteroid_2_speed=19\n",
    "if asteroid_2_speed >25:\n",
    "    print(\"Alerta!, se ha detectado asteroide a \"+ str(asteroid_2_speed)+\" km/s, Alerta!!\")\n",
    "elif asteroid_2_speed >=20:\n",
    "    print(\"Advertencia, posible rayo de luz en el cielo debido a un asteroide... No hay peligro!\")\n",
    "else:\n",
    "    print(\"No se han detectado amenzana de asteroide, lindo día\")    "
   ]
  },
  {
   "cell_type": "code",
   "execution_count": 11,
   "metadata": {},
   "outputs": [
    {
     "name": "stdout",
     "output_type": "stream",
     "text": [
      "No se ha detectado amenaza por asteroide, lindo día\n"
     ]
    }
   ],
   "source": [
    "#Sistema de alerta optimizado\n",
    "#Detecciones actuales:\n",
    "    #Dimension del asteroide\n",
    "        #Asteroides menores a 25 m probablemnte se quemen en la atmósfera de la tierra\n",
    "        #Asteroides mayores a 25 m pero menores a 1000 m causarán un gran daño en la tierra\n",
    "        #Asteroides con velocidades mayores a 25 km/s merecen una advertencia\n",
    "        #Asteroides con velocidades mayor o igual a 20 km/s, suelen producir un rayo de luz\n",
    "\n",
    "asteroid_name= \"Galactus\"\n",
    "asteroid_3_speed = 19\n",
    "asteroid_size= 24\n",
    "\n",
    "if asteroid_3_speed > 25 and asteroid_size > 25 and asteroid_size < 1000:\n",
    "    print(\"Alerta!, asteroide \"+ asteroid_name+\" detectado!!!\")  \n",
    "    print(\"Velocidad actual de \"+ str(asteroid_3_speed)+\" km/s. Representa una amenaza!!\")\n",
    "    print(\"Tamaño del asteroide \"+str(asteroid_size)+\" m, corran a un refugio!!!\")\n",
    "    print(\"Podría aparecer un rayo de luz en el cielo\")\n",
    "elif asteroid_3_speed > 25 and asteroid_size < 25:\n",
    "    print(\"Alerta!, asteroide \"+ asteroid_name+\" detectado!!!\")         \n",
    "    print(\"Velocidad actual de \"+ str(asteroid_3_speed)+\" km/s. Representa una amenaza!!\")\n",
    "    print(\"Tamaño del asteroide \"+str(asteroid_size)+\" m, esperemos que se desintegre en la atmosfera\")\n",
    "    print(\"Podría aparecer un rayo de luz en el cielo\")\n",
    "else:\n",
    "    print(\"No se ha detectado amenaza por asteroide, lindo día\")\n",
    "    if asteroid_3_speed >=20:\n",
    "        print(\"Podría aparecer un rayo de luz en el cielo debido a un asteroide\")\n"
   ]
  }
 ],
 "metadata": {
  "interpreter": {
   "hash": "860320f12bbd857868f8feafd4fd4834e3ab01930842d95803e312588d88e769"
  },
  "kernelspec": {
   "display_name": "Python 3.10.2 64-bit",
   "language": "python",
   "name": "python3"
  },
  "language_info": {
   "codemirror_mode": {
    "name": "ipython",
    "version": 3
   },
   "file_extension": ".py",
   "mimetype": "text/x-python",
   "name": "python",
   "nbconvert_exporter": "python",
   "pygments_lexer": "ipython3",
   "version": "3.10.2"
  },
  "orig_nbformat": 4
 },
 "nbformat": 4,
 "nbformat_minor": 2
}
