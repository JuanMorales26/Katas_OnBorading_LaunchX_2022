{
 "cells": [
  {
   "cell_type": "code",
   "execution_count": null,
   "metadata": {},
   "outputs": [],
   "source": [
    "from datetime import timedelta, datetime\n",
    "\n",
    "def arrival_time(hours=51):\n",
    "    now = datetime.now()\n",
    "    arrival = now + timedelta(hours=hours)\n",
    "    return arrival.strftime('Arrival: %A %H:%M')\n",
    "\n",
    "arrival_time(hours=0)"
   ]
  },
  {
   "cell_type": "code",
   "execution_count": null,
   "metadata": {},
   "outputs": [],
   "source": [
    "def variable_length(**kwargs):\n",
    "    print(kwargs)\n",
    "\n",
    "variable_length(tanks=1, day='Wednesday', pilots=3)"
   ]
  },
  {
   "cell_type": "code",
   "execution_count": null,
   "metadata": {},
   "outputs": [],
   "source": [
    "def fuel_status(tank_1, tank_2, tank_3):\n",
    "    print(f'''Fuel Status:\n",
    "    Tank 1: {tank_1}\n",
    "    Tank 2: {tank_2}\n",
    "    Tank 3: {tank_3}\n",
    "    Averag: {average([tank_1, tank_2, tank_3])} liters\n",
    "    ''')\n",
    "\n",
    "def average(quantities):\n",
    "    total= sum(quantities)\n",
    "    num_tanks= len(quantities)\n",
    "    return total/num_tanks\n",
    "\n",
    "print(fuel_status(10,40,30))"
   ]
  },
  {
   "cell_type": "code",
   "execution_count": null,
   "metadata": {},
   "outputs": [],
   "source": [
    "#Ejercicio 2: Uso de argumentos de palabra clave\n",
    "#Función con un informe preciso de la misión. Considera hora de prelanzamiento, tiempo de vuelo, destino, tanque externo y tanque interno\n",
    "\n",
    "def full_report(pre_launch_time, flight_time, Destination,ext_fuel_tank, inte_fuel_tank):\n",
    "    print(f'''Full Status Launch Report\n",
    "    Destination: {Destination}\n",
    "    Total Flight Time: {pre_launch_time+flight_time} hrs\n",
    "    External Fuel Tank Level: {ext_fuel_tank} %\n",
    "    Internal Fuel Tank Level: {inte_fuel_tank} %   \n",
    "    ''')\n",
    "\n",
    "full_report(5, 18, \"Mars\", 80, 100)"
   ]
  },
  {
   "cell_type": "code",
   "execution_count": null,
   "metadata": {},
   "outputs": [],
   "source": [
    "#La función es problemática porque no se puede adaptar para minutos adicionales o tanques adicionales de combustible. \n",
    "#Hazlo más flexible permitiendo cualquier número de pasos basados en el tiempo y cualquier número de tanques. \n",
    "#En lugar de usar *args y **kwargs, aprovecha el hecho de que puedes usar cualquier nombre que desees. \n",
    "#Asegurate que la función sea más legible mediante el uso de nombres de variables que están asociados con las entradas, como *minutes y **fuel_reservoirs:\n",
    "\n",
    "def full_report(Destination, *hours_flight, **fuel):\n",
    "    print(f'''Full Status Launch Report\n",
    "    Destination: {Destination}\n",
    "    Total Flight Time: {sum(hours_flight)} hrs''')\n",
    "    for tank, level in fuel.items():\n",
    "        print(f'{tank}: {level}%')\n",
    "    total_tanks=0\n",
    "    for tanks in fuel.keys():\n",
    "        total_tanks +=1\n",
    "\n",
    "    print(f'Average Fuel: {sum(fuel.values())/total_tanks}')\n",
    "\n",
    "full_report(\"Mars\", 5, 2, 10, 6, Tank_1_Level=80, Tank_2_Level=10, Tank_3_Level=74.5)"
   ]
  },
  {
   "cell_type": "code",
   "execution_count": null,
   "metadata": {},
   "outputs": [],
   "source": []
  }
 ],
 "metadata": {
  "interpreter": {
   "hash": "860320f12bbd857868f8feafd4fd4834e3ab01930842d95803e312588d88e769"
  },
  "kernelspec": {
   "display_name": "Python 3.10.2 64-bit",
   "language": "python",
   "name": "python3"
  },
  "language_info": {
   "codemirror_mode": {
    "name": "ipython",
    "version": 3
   },
   "file_extension": ".py",
   "mimetype": "text/x-python",
   "name": "python",
   "nbconvert_exporter": "python",
   "pygments_lexer": "ipython3",
   "version": "3.10.2"
  },
  "orig_nbformat": 4
 },
 "nbformat": 4,
 "nbformat_minor": 2
}
