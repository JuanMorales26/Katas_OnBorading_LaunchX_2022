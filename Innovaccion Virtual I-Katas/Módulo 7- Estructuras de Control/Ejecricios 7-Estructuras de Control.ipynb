{
 "cells": [
  {
   "cell_type": "code",
   "execution_count": 1,
   "metadata": {},
   "outputs": [
    {
     "name": "stdout",
     "output_type": "stream",
     "text": [
      "1.- Earth\n",
      "2.- Mars\n",
      "3.- Jupyter\n",
      "4.- Saturn\n",
      "5.- Uranus\n",
      "6.- Venus\n",
      "7.- MErcury\n",
      "8.- Pluto\n"
     ]
    }
   ],
   "source": [
    "new_planet=''\n",
    "planets= []\n",
    "count = 0 \n",
    "while new_planet.lower() != \"exit\":\n",
    "    if new_planet:\n",
    "        planets.append(new_planet)\n",
    "    new_planet= input(\"Write the name for a new planet or type 'exit' to end\\n\")\n",
    "\n",
    "if input(\"Do you want to see Planet's list?(Y/N):\") == \"Y\":\n",
    "    for planet in planets:\n",
    "        count +=1\n",
    "        print(f\"{count}.- {planet}\")"
   ]
  }
 ],
 "metadata": {
  "interpreter": {
   "hash": "860320f12bbd857868f8feafd4fd4834e3ab01930842d95803e312588d88e769"
  },
  "kernelspec": {
   "display_name": "Python 3.10.2 64-bit",
   "language": "python",
   "name": "python3"
  },
  "language_info": {
   "codemirror_mode": {
    "name": "ipython",
    "version": 3
   },
   "file_extension": ".py",
   "mimetype": "text/x-python",
   "name": "python",
   "nbconvert_exporter": "python",
   "pygments_lexer": "ipython3",
   "version": "3.10.2"
  },
  "orig_nbformat": 4
 },
 "nbformat": 4,
 "nbformat_minor": 2
}
