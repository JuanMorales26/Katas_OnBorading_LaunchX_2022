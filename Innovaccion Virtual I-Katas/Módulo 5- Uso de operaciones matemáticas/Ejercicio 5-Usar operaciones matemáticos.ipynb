{
 "cells": [
  {
   "cell_type": "code",
   "execution_count": 12,
   "metadata": {},
   "outputs": [
    {
     "name": "stdout",
     "output_type": "stream",
     "text": [
      "Distance between Earth and Mars is: 78300000 km or 48624300 milles\n"
     ]
    }
   ],
   "source": [
    "name_planet_1= input(\"First planet name:\\n\")\n",
    "distance_planet_1_sun= int(input(f\"Introduce the distance between {name_planet_1} to the Sun:\\n\"))\n",
    "name_planet_2= input(\"Please, name of the second planet:\\n\")\n",
    "distance_planet_2_sun= int(input(f\"Now, introduce the distance between {name_planet_2} to the Sun:\\n\"))\n",
    "print(f\"Distance between {name_planet_1} and {name_planet_2} is: {abs(distance_planet_1_sun-distance_planet_2_sun)} km or {round(abs(distance_planet_1_sun-distance_planet_2_sun)*0.621)} milles\")"
   ]
  }
 ],
 "metadata": {
  "interpreter": {
   "hash": "0a313cbfe3d56bcec459cb3c64d2a65e0938b026122419c67da5e43e25ea249e"
  },
  "kernelspec": {
   "display_name": "Python 3.10.2 64-bit (windows store)",
   "language": "python",
   "name": "python3"
  },
  "language_info": {
   "codemirror_mode": {
    "name": "ipython",
    "version": 3
   },
   "file_extension": ".py",
   "mimetype": "text/x-python",
   "name": "python",
   "nbconvert_exporter": "python",
   "pygments_lexer": "ipython3",
   "version": "3.10.2"
  },
  "orig_nbformat": 4
 },
 "nbformat": 4,
 "nbformat_minor": 2
}
