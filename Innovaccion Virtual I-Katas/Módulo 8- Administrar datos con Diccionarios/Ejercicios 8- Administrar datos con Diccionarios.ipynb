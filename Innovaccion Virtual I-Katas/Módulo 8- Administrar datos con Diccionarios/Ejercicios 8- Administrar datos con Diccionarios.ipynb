{
 "cells": [
  {
   "cell_type": "code",
   "execution_count": 18,
   "metadata": {},
   "outputs": [
    {
     "name": "stdout",
     "output_type": "stream",
     "text": [
      "Planet name is Mars and has 2 moons.\n",
      "Planet name is Mars and has 6752 km polar circumference and 6792 km equatorial circumference\n",
      "\n"
     ]
    }
   ],
   "source": [
    "#Mars Dictionary\n",
    "planet={\n",
    "    \"name\":\"Mars\",\n",
    "    \"moons\":2\n",
    "    }\n",
    "#print(f\"Planet name is {planet.get('name')} and has {planet.get('moons')} moons\")\n",
    "print(f\"Planet name is {planet['name']} and has {planet['moons']} moons.\")\n",
    "\n",
    "planet['circumference (km)']={\n",
    "        'polar':6752,\n",
    "       'equatorial':6792\n",
    "        }\n",
    "\n",
    "print(f\"\"\"Planet name is {planet['name']} and has {planet['circumference (km)']['polar']} km polar circumference and {planet['circumference (km)']['equatorial']} km equatorial circumference\\n\"\"\")"
   ]
  },
  {
   "cell_type": "code",
   "execution_count": 28,
   "metadata": {},
   "outputs": [
    {
     "name": "stdout",
     "output_type": "stream",
     "text": [
      "There is a total of: 214 moons in 12 planets. In average there is 17.833333333333332 moons.\n",
      "These planets are:\n",
      "mercury\n",
      "venus\n",
      "earth\n",
      "mars\n",
      "jupiter\n",
      "saturn\n",
      "uranus\n",
      "neptune\n",
      "pluto\n",
      "haumea\n",
      "makemake\n",
      "eris\n"
     ]
    }
   ],
   "source": [
    "planet_moons = {\n",
    "    'mercury': 0,\n",
    "    'venus': 0,\n",
    "    'earth': 1,\n",
    "    'mars': 2,\n",
    "    'jupiter': 79,\n",
    "    'saturn': 82,\n",
    "    'uranus': 27,\n",
    "    'neptune': 14,\n",
    "    'pluto': 5,\n",
    "    'haumea': 2,\n",
    "    'makemake': 1,\n",
    "    'eris': 1\n",
    "}\n",
    "values = planet_moons.values()\n",
    "names= planet_moons.keys()\n",
    "planets = len(values)\n",
    "moons=0\n",
    "for value in values:\n",
    "    moons= moons + value\n",
    "    \n",
    "print(f'''There is a total of: {moons} moons in {planets} planets. In average there is {moons/planets} moons.\n",
    "These planets are:''')\n",
    "for name in names:\n",
    "    print(f\"{name}\")\n"
   ]
  },
  {
   "cell_type": "code",
   "execution_count": null,
   "metadata": {},
   "outputs": [],
   "source": []
  }
 ],
 "metadata": {
  "interpreter": {
   "hash": "860320f12bbd857868f8feafd4fd4834e3ab01930842d95803e312588d88e769"
  },
  "kernelspec": {
   "display_name": "Python 3.10.2 64-bit",
   "language": "python",
   "name": "python3"
  },
  "language_info": {
   "codemirror_mode": {
    "name": "ipython",
    "version": 3
   },
   "file_extension": ".py",
   "mimetype": "text/x-python",
   "name": "python",
   "nbconvert_exporter": "python",
   "pygments_lexer": "ipython3",
   "version": "3.10.2"
  },
  "orig_nbformat": 4
 },
 "nbformat": 4,
 "nbformat_minor": 2
}
