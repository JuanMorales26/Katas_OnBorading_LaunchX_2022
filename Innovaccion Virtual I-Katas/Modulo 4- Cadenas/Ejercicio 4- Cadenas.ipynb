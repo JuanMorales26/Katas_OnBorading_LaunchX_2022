{
 "cells": [
  {
   "cell_type": "code",
   "execution_count": null,
   "metadata": {},
   "outputs": [],
   "source": [
    "text= \"\"\"Interesting facts about the Moon. \n",
    "The Moon is Earth's only satellite. \n",
    "There are several interesting facts about the Moon and how it affects life here on Earth. \n",
    "On average, the Moon moves 4cm away from the Earth every year. \n",
    "This yearly drift is not significant enough to cause immediate effects on Earth. \n",
    "The highest daylight temperature of the Moon is 127 C\"\"\"\n",
    "text_sentences= text.split('.')\n",
    "key_words = [\"earth's\", \"moves\",\"temperature\",\"effects\"]\n",
    "for sentense in text_sentences:\n",
    "    for key_word in key_words:\n",
    "        if key_word in sentense.lower():\n",
    "            print(sentense)\n",
    "            break\n",
    "text.replace(\"C\", \"Celsius\")"
   ]
  },
  {
   "cell_type": "code",
   "execution_count": 10,
   "metadata": {},
   "outputs": [
    {
     "name": "stdout",
     "output_type": "stream",
     "text": [
      "Gravity Facts About Moon\n",
      "-------------------------------------------------------\n",
      "Planet name: Earth\n",
      "Gravity on Moon: 1.6199999999999999 m/s2\n",
      "\n",
      "Gravity Facts About Ganimedes\n",
      "-------------------------------------------------------\n",
      "Planet name: Mars\n",
      "Gravity on Ganimedes: 1.4300000000000002 m/s2\n"
     ]
    }
   ],
   "source": [
    "# Datos con los que vas a trabajar\n",
    "name = \"Moon\"\n",
    "gravity_date = 0.00162 # in kms\n",
    "planet = \"Earth\"\n",
    "\n",
    "heading_base='gravity facts about '\n",
    "heading = heading_base + name\n",
    "format_lines= \"\\n-------------------------------------------------------\"\n",
    "plantilla= heading.title() + format_lines\n",
    "print(plantilla)\n",
    "print(\"\"\"Planet name: {0}\n",
    "Gravity on {1}: {2} m/s2\"\"\".format(planet,name,gravity_date*1000))\n",
    "\n",
    "name=\"Ganimedes\"\n",
    "gravity_date=.00143\n",
    "planet= \"Mars\"\n",
    "\n",
    "heading_base='\\ngravity facts about '\n",
    "heading = heading_base + name\n",
    "format_lines= \"\\n-------------------------------------------------------\"\n",
    "plantilla= heading.title() + format_lines\n",
    "print(plantilla)\n",
    "print(\"\"\"Planet name: {0}\n",
    "Gravity on {1}: {2} m/s2\"\"\".format(planet,name,gravity_date*1000))"
   ]
  },
  {
   "cell_type": "code",
   "execution_count": null,
   "metadata": {},
   "outputs": [],
   "source": []
  }
 ],
 "metadata": {
  "interpreter": {
   "hash": "860320f12bbd857868f8feafd4fd4834e3ab01930842d95803e312588d88e769"
  },
  "kernelspec": {
   "display_name": "Python 3.10.2 64-bit",
   "language": "python",
   "name": "python3"
  },
  "language_info": {
   "codemirror_mode": {
    "name": "ipython",
    "version": 3
   },
   "file_extension": ".py",
   "mimetype": "text/x-python",
   "name": "python",
   "nbconvert_exporter": "python",
   "pygments_lexer": "ipython3",
   "version": "3.10.2"
  },
  "orig_nbformat": 4
 },
 "nbformat": 4,
 "nbformat_minor": 2
}
