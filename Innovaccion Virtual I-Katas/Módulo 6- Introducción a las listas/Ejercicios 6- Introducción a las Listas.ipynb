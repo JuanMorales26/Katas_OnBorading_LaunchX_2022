{
 "cells": [
  {
   "cell_type": "code",
   "execution_count": null,
   "metadata": {},
   "outputs": [],
   "source": [
    "#Create a list of the 8 planet\n",
    "planets=[\"Mercury\",\"Venus\",\"Earth\",\"Mars\",\"Jupiter\",\"Saturn\",\"Uranus\",\"Neptune\"]\n",
    "print(f\"This list of planets has {len(planets)} planets\")\n",
    "\n",
    "planets.append(\"Pluto\")\n",
    "print(f\"Now the list has {len(planets)} planets and they are:\\n {planets}\")\n",
    "print(f\"The last planet added was {planets[-1]}\")"
   ]
  },
  {
   "cell_type": "code",
   "execution_count": 6,
   "metadata": {},
   "outputs": [
    {
     "name": "stdout",
     "output_type": "stream",
     "text": [
      "This are the planets closer to planet you gave me:\n",
      " ['Mercury', 'Venus', 'Earth', 'Mars']\n",
      "\n",
      "Now, this are the planets farthest of the sun after the planet you gave me:\n",
      "['Saturn', 'Uranus', 'Neptune']\n",
      "\n"
     ]
    }
   ],
   "source": [
    "#Create a list of the 8 planet\n",
    "planets=[\"Mercury\",\"Venus\",\"Earth\",\"Mars\",\"Jupiter\",\"Saturn\",\"Uranus\",\"Neptune\"]\n",
    "\n",
    "planet_choosen= input(f\"Please, give a planet name, use capital letter for name:\\n\")\n",
    "position_planet= planets.index(planet_choosen)\n",
    "planets_closer= planets[0:position_planet]\n",
    "print(f\"This are the planets closer to planet you gave me:\\n {planets_closer}\\n\")\n",
    "planets_farthest= planets[position_planet+1:]\n",
    "print(f\"Now, this are the planets farthest of the sun after the planet you gave me:\\n{planets_farthest}\\n\")"
   ]
  }
 ],
 "metadata": {
  "interpreter": {
   "hash": "0a313cbfe3d56bcec459cb3c64d2a65e0938b026122419c67da5e43e25ea249e"
  },
  "kernelspec": {
   "display_name": "Python 3.10.2 64-bit (windows store)",
   "language": "python",
   "name": "python3"
  },
  "language_info": {
   "codemirror_mode": {
    "name": "ipython",
    "version": 3
   },
   "file_extension": ".py",
   "mimetype": "text/x-python",
   "name": "python",
   "nbconvert_exporter": "python",
   "pygments_lexer": "ipython3",
   "version": "3.10.2"
  },
  "orig_nbformat": 4
 },
 "nbformat": 4,
 "nbformat_minor": 2
}
